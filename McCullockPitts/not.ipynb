{
  "nbformat": 4,
  "nbformat_minor": 0,
  "metadata": {
    "colab": {
      "provenance": []
    },
    "kernelspec": {
      "name": "python3",
      "display_name": "Python 3"
    },
    "language_info": {
      "name": "python"
    }
  },
  "cells": [
    {
      "cell_type": "markdown",
      "source": [
        "La activación ocurre de forma inversa a OR: cuando la entrada es 0, la neurona se activa (1), y cuando la entrada es 1, la neurona no se activa (0)."
      ],
      "metadata": {
        "id": "V5X8-zYGOk3L"
      }
    },
    {
      "cell_type": "code",
      "execution_count": null,
      "metadata": {
        "colab": {
          "base_uri": "https://localhost:8080/"
        },
        "id": "AZBUrnpeIHgy",
        "outputId": "5ef168bb-543a-4e3e-ec12-eaa95ae741fe"
      },
      "outputs": [
        {
          "output_type": "stream",
          "name": "stdout",
          "text": [
            "Input: [0], Weighted Sum: 0\n",
            "Input: [1], Weighted Sum: -1\n",
            "predictions [1, 0]\n"
          ]
        }
      ],
      "source": [
        "# Importamos la biblioteca NumPy\n",
        "import numpy as np\n",
        "\n",
        "# Entradas para la neurona (solo una columna)\n",
        "X = np.array([\n",
        "    [0],\n",
        "    [1]\n",
        "])\n",
        "\n",
        "# Salidas esperadas para la compuerta lógica NOT\n",
        "Y = np.array([1, 0])\n",
        "\n",
        "# Peso negativo (porque queremos invertir el valor)\n",
        "W = [-1]\n",
        "\n",
        "# Umbral para la función de activación\n",
        "umbral = 0\n",
        "\n",
        "# Definición de la clase McCulloch-Pitts\n",
        "class McCullochPitts:\n",
        "    def __init__(self, weights, umbral):\n",
        "        \"\"\"\n",
        "        Constructor de la neurona MPC\n",
        "        weights -> vector de pesos iniciales\n",
        "        umbral -> umbral para usar la función de activación\n",
        "        \"\"\"\n",
        "        self.weights = weights\n",
        "        self.umbral = umbral\n",
        "\n",
        "    def predict(self, X):\n",
        "        \"\"\"\n",
        "        Calcula la salida de la neurona para cada fila\n",
        "        \"\"\"\n",
        "        predictions = []\n",
        "        for i in range(X.shape[0]):\n",
        "            weighted_sum = np.dot(self.weights, X[i])\n",
        "            print(f\"Input: {X[i]}, Weighted Sum: {weighted_sum}\")\n",
        "            # Función escalón inversa (por el peso negativo)\n",
        "            if weighted_sum >= self.umbral:\n",
        "                predictions.append(1)\n",
        "            else:\n",
        "                predictions.append(0)\n",
        "        return predictions\n",
        "\n",
        "# Instanciamos la clase\n",
        "mcp = McCullochPitts(W, umbral)\n",
        "\n",
        "# Calculamos las predicciones\n",
        "predictions = mcp.predict(X)\n",
        "\n",
        "# Mostramos los resultados\n",
        "print(\"predictions\",predictions)"
      ]
    }
  ]
}