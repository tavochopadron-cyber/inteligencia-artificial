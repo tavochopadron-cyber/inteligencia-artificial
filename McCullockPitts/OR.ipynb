{
  "nbformat": 4,
  "nbformat_minor": 0,
  "metadata": {
    "colab": {
      "provenance": []
    },
    "kernelspec": {
      "name": "python3",
      "display_name": "Python 3"
    },
    "language_info": {
      "name": "python"
    }
  },
  "cells": [
    {
      "cell_type": "markdown",
      "source": [
        "La neurona se activa cuando al menos una de las entradas tiene el valor de 1. Esto pasa ya que  los pesos asignados a las entradas suman un valor que supera el umbral (0)"
      ],
      "metadata": {
        "id": "jLPjg3J8K7Y_"
      }
    },
    {
      "cell_type": "code",
      "execution_count": 8,
      "metadata": {
        "id": "WBiteAaPvfVa"
      },
      "outputs": [],
      "source": [
        "##Importamos la biblioteca NumPy\n",
        "import numpy as np\n",
        "#Enatradas para la neurona\n",
        "X = np.array([\n",
        "              [0,0],\n",
        "              [0,1],\n",
        "              [1,0],\n",
        "              [1,1]\n",
        "])\n",
        "#Salidas esperadas para la compuerta lógica OR\n",
        "Y = np.array([0,0,0,1])\n",
        "#Asignamos pesos para las entradas\n",
        "W = [9,9]\n",
        "#Umbral para la funcion de activacion\n",
        "umbral = 9"
      ]
    },
    {
      "cell_type": "code",
      "source": [
        "class McCullochPitts:\n",
        "    def __init__(self, weights, umbral):\n",
        "        \"\"\"\n",
        "        Constructor de la neurona MPC\n",
        "        Guardar las variables\n",
        "        weights ->vector de pesos iniciales\n",
        "        umbral ->umbral paraa usar la funcion de activacion\n",
        "        \"\"\"\n",
        "        self.weights = weights\n",
        "        self.umbral = umbral\n",
        "    def predict(self, X):\n",
        "        \"\"\"\n",
        "             Calcular las salida de las neuronas para cada fila\n",
        "        \"\"\"\n",
        "        #Listas donde se guardaran las salidas (predicciones)\n",
        "        predictions = []\n",
        "        #Recorremos cada fila de entradas\n",
        "        for i in range (X.shape [0]):\n",
        "            #Caluculamos la suma ponderada : w1*x1 + w2*x2\n",
        "            weighted_sum = np.dot(self.weights, X[i])\n",
        "            #Mostramos en la consola la entrada y la suma\n",
        "            print(f\"Input: {X[i]}, Weighted Sum: {weighted_sum}\")\n",
        "            #Comparacion con el umbral determinar si la neurona se activa o no\n",
        "            ## Aplicamos la función de activación (función escalón)\n",
        "            # Si la suma ponderada es mayor o igual al umbral, la neurona se activa (1)\n",
        "            # Si no, la salida es 0 (neurona no activada)\n",
        "            if  weighted_sum >= self.umbral:\n",
        "                predictions.append(1)\n",
        "            else:\n",
        "                predictions.append(0)\n",
        "        return predictions"
      ],
      "metadata": {
        "id": "0LZlDVh96VsD"
      },
      "execution_count": 9,
      "outputs": []
    },
    {
      "cell_type": "code",
      "source": [
        "#Instanciamos la clase McCullochPitts\n",
        "mcp = McCullochPitts(W, umbral)\n",
        "#Calculamos las predicciones\n",
        "predictions = mcp.predict(X)\n",
        "#mostramos el resultado final\n",
        "print (\"predictions:\", predictions)"
      ],
      "metadata": {
        "colab": {
          "base_uri": "https://localhost:8080/"
        },
        "id": "Manyp6jT6lQ0",
        "outputId": "0e808fad-91d1-4b15-a3b9-2b9d4f6f605c"
      },
      "execution_count": 10,
      "outputs": [
        {
          "output_type": "stream",
          "name": "stdout",
          "text": [
            "Input: [0 0], Weighted Sum: 0\n",
            "Input: [0 1], Weighted Sum: 9\n",
            "Input: [1 0], Weighted Sum: 9\n",
            "Input: [1 1], Weighted Sum: 18\n",
            "predictions: [0, 1, 1, 1]\n"
          ]
        }
      ]
    },
    {
      "cell_type": "markdown",
      "source": [
        "\n",
        "\n",
        "\n",
        "\n"
      ],
      "metadata": {
        "id": "bfVPK-HY61cR"
      }
    },
    {
      "cell_type": "code",
      "source": [
        "La neurona se activa (produce una salida igual a 1) cuando al menos una de las entradas tiene el valor de 1"
      ],
      "metadata": {
        "id": "C1JChsnt6-SR"
      },
      "execution_count": null,
      "outputs": []
    }
  ]
}