{
  "nbformat": 4,
  "nbformat_minor": 0,
  "metadata": {
    "colab": {
      "provenance": []
    },
    "kernelspec": {
      "name": "python3",
      "display_name": "Python 3"
    },
    "language_info": {
      "name": "python"
    }
  },
  "cells": [
    {
      "cell_type": "markdown",
      "source": [
        "Si la entrada es 0  el sesgo positivo empuja el resultado total por encima del umbral, por lo que la neurona se activa (1).\n",
        "\n",
        "Si la entrada es 1, el peso negativo domina al sesgo, y el resultado total cae  por lo que la neurona se desactiva (0)."
      ],
      "metadata": {
        "id": "NSCw4Eu-oxgL"
      }
    },
    {
      "cell_type": "code",
      "execution_count": 1,
      "metadata": {
        "colab": {
          "base_uri": "https://localhost:8080/"
        },
        "id": "2YSpg22aoKVC",
        "outputId": "05234bc2-1981-471c-8b6a-5d20de7636f3"
      },
      "outputs": [
        {
          "output_type": "stream",
          "name": "stdout",
          "text": [
            "NOT(0) = 1\n",
            "NOT(1) = 0\n"
          ]
        }
      ],
      "source": [
        " # Importamos la librería numpy\n",
        "import numpy as np\n",
        "\n",
        "def perceptron_not(input_value): # Definimos la función del perceptron para la función NOT. Recibe un valor de entrada.\n",
        "    \"\"\"\n",
        "    Implementa un perceptron simple para la función NOT.\n",
        "\n",
        "    Args:\n",
        "        input_value: El valor de entrada (0 o 1).\n",
        "\n",
        "    Returns:\n",
        "        La salida del perceptron (0 o 1).\n",
        "    \"\"\"\n",
        "    weights = np.array([-1]) # Definimos los pesos del perceptron. Para la función NOT, un peso negativo es crucial.\n",
        "    sesgo = 0.5 # Definimos el sesgo. Este valor ajusta el umbral de activación.\n",
        "\n",
        "    # Calculamos la suma ponderada de las entradas y los pesos, y le sumamos el sesgo.\n",
        "    # En este caso, solo tenemos una entrada, por lo que es input_value * weights[0] + sesgo.\n",
        "    weighted_sum = np.dot(input_value, weights) + sesgo\n",
        "\n",
        "    # Aplicamos la función de activación (escalón unitario).\n",
        "    # Si la suma ponderada es mayor o igual a cero, la salida es 1; de lo contrario, es 0.\n",
        "    output = 1 if weighted_sum >= 0 else 0\n",
        "\n",
        "    return output # Devolvemos la salida del perceptron.\n",
        "\n",
        "# --- Ejemplos de uso ---\n",
        "print(f\"NOT(0) = {perceptron_not(0)}\") # Probamos el perceptron con la entrada 0.\n",
        "print(f\"NOT(1) = {perceptron_not(1)}\") # Probamos el perceptron con la entrada 1."
      ]
    }
  ]
}